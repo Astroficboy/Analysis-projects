{
 "cells": [
  {
   "cell_type": "code",
   "execution_count": 28,
   "metadata": {},
   "outputs": [],
   "source": [
    "import pandas as pd\n",
    "import scipy.stats as st\n",
    "import scipy.cluster as cl\n",
    "import matplotlib.pyplot as plt\n",
    "import random"
   ]
  },
  {
   "cell_type": "code",
   "execution_count": 2,
   "metadata": {
    "scrolled": true
   },
   "outputs": [
    {
     "name": "stderr",
     "output_type": "stream",
     "text": [
      "C:\\Users\\HP\\anaconda3\\lib\\site-packages\\openpyxl\\worksheet\\_reader.py:312: UserWarning: Unknown extension is not supported and will be removed\n",
      "  warn(msg)\n"
     ]
    }
   ],
   "source": [
    "data = pd.read_excel('data.xlsx')"
   ]
  },
  {
   "cell_type": "code",
   "execution_count": 3,
   "metadata": {},
   "outputs": [
    {
     "data": {
      "text/html": [
       "<div>\n",
       "<style scoped>\n",
       "    .dataframe tbody tr th:only-of-type {\n",
       "        vertical-align: middle;\n",
       "    }\n",
       "\n",
       "    .dataframe tbody tr th {\n",
       "        vertical-align: top;\n",
       "    }\n",
       "\n",
       "    .dataframe thead th {\n",
       "        text-align: right;\n",
       "    }\n",
       "</style>\n",
       "<table border=\"1\" class=\"dataframe\">\n",
       "  <thead>\n",
       "    <tr style=\"text-align: right;\">\n",
       "      <th></th>\n",
       "      <th>season</th>\n",
       "      <th>round</th>\n",
       "      <th>raceName</th>\n",
       "      <th>date</th>\n",
       "      <th>circuitId</th>\n",
       "      <th>circuitName</th>\n",
       "      <th>number</th>\n",
       "      <th>position</th>\n",
       "      <th>positionText</th>\n",
       "      <th>points</th>\n",
       "      <th>...</th>\n",
       "      <th>full name</th>\n",
       "      <th>dateOfBirth</th>\n",
       "      <th>nationality</th>\n",
       "      <th>constructorId</th>\n",
       "      <th>Constructor name</th>\n",
       "      <th>Constructor nationality</th>\n",
       "      <th>results.grid</th>\n",
       "      <th>results.laps</th>\n",
       "      <th>results.status</th>\n",
       "      <th>Circ Count</th>\n",
       "    </tr>\n",
       "  </thead>\n",
       "  <tbody>\n",
       "    <tr>\n",
       "      <th>0</th>\n",
       "      <td>1950</td>\n",
       "      <td>1</td>\n",
       "      <td>British Grand Prix</td>\n",
       "      <td>1950-05-13</td>\n",
       "      <td>silverstone</td>\n",
       "      <td>Silverstone Circuit</td>\n",
       "      <td>2.0</td>\n",
       "      <td>1</td>\n",
       "      <td>1</td>\n",
       "      <td>9.0</td>\n",
       "      <td>...</td>\n",
       "      <td>Nino Farina</td>\n",
       "      <td>1906-10-30</td>\n",
       "      <td>Italian</td>\n",
       "      <td>alfa</td>\n",
       "      <td>Alfa Romeo</td>\n",
       "      <td>Italian</td>\n",
       "      <td>1</td>\n",
       "      <td>70</td>\n",
       "      <td>Finished</td>\n",
       "      <td>Silverstone Circuit</td>\n",
       "    </tr>\n",
       "    <tr>\n",
       "      <th>1</th>\n",
       "      <td>1950</td>\n",
       "      <td>1</td>\n",
       "      <td>British Grand Prix</td>\n",
       "      <td>1950-05-13</td>\n",
       "      <td>silverstone</td>\n",
       "      <td>Silverstone Circuit</td>\n",
       "      <td>3.0</td>\n",
       "      <td>2</td>\n",
       "      <td>2</td>\n",
       "      <td>6.0</td>\n",
       "      <td>...</td>\n",
       "      <td>Luigi Fagioli</td>\n",
       "      <td>1898-06-09</td>\n",
       "      <td>Italian</td>\n",
       "      <td>alfa</td>\n",
       "      <td>Alfa Romeo</td>\n",
       "      <td>Italian</td>\n",
       "      <td>2</td>\n",
       "      <td>70</td>\n",
       "      <td>Finished</td>\n",
       "      <td>NaN</td>\n",
       "    </tr>\n",
       "    <tr>\n",
       "      <th>2</th>\n",
       "      <td>1950</td>\n",
       "      <td>1</td>\n",
       "      <td>British Grand Prix</td>\n",
       "      <td>1950-05-13</td>\n",
       "      <td>silverstone</td>\n",
       "      <td>Silverstone Circuit</td>\n",
       "      <td>4.0</td>\n",
       "      <td>3</td>\n",
       "      <td>3</td>\n",
       "      <td>4.0</td>\n",
       "      <td>...</td>\n",
       "      <td>Reg Parnell</td>\n",
       "      <td>1911-07-02</td>\n",
       "      <td>British</td>\n",
       "      <td>alfa</td>\n",
       "      <td>Alfa Romeo</td>\n",
       "      <td>Italian</td>\n",
       "      <td>4</td>\n",
       "      <td>70</td>\n",
       "      <td>Finished</td>\n",
       "      <td>NaN</td>\n",
       "    </tr>\n",
       "    <tr>\n",
       "      <th>3</th>\n",
       "      <td>1950</td>\n",
       "      <td>1</td>\n",
       "      <td>British Grand Prix</td>\n",
       "      <td>1950-05-13</td>\n",
       "      <td>silverstone</td>\n",
       "      <td>Silverstone Circuit</td>\n",
       "      <td>14.0</td>\n",
       "      <td>4</td>\n",
       "      <td>4</td>\n",
       "      <td>3.0</td>\n",
       "      <td>...</td>\n",
       "      <td>Yves Cabantous</td>\n",
       "      <td>1904-10-08</td>\n",
       "      <td>French</td>\n",
       "      <td>lago</td>\n",
       "      <td>Talbot-Lago</td>\n",
       "      <td>French</td>\n",
       "      <td>6</td>\n",
       "      <td>68</td>\n",
       "      <td>+2 Laps</td>\n",
       "      <td>NaN</td>\n",
       "    </tr>\n",
       "    <tr>\n",
       "      <th>4</th>\n",
       "      <td>1950</td>\n",
       "      <td>1</td>\n",
       "      <td>British Grand Prix</td>\n",
       "      <td>1950-05-13</td>\n",
       "      <td>silverstone</td>\n",
       "      <td>Silverstone Circuit</td>\n",
       "      <td>15.0</td>\n",
       "      <td>5</td>\n",
       "      <td>5</td>\n",
       "      <td>2.0</td>\n",
       "      <td>...</td>\n",
       "      <td>Louis Rosier</td>\n",
       "      <td>1905-11-05</td>\n",
       "      <td>French</td>\n",
       "      <td>lago</td>\n",
       "      <td>Talbot-Lago</td>\n",
       "      <td>French</td>\n",
       "      <td>9</td>\n",
       "      <td>68</td>\n",
       "      <td>+2 Laps</td>\n",
       "      <td>NaN</td>\n",
       "    </tr>\n",
       "  </tbody>\n",
       "</table>\n",
       "<p>5 rows × 23 columns</p>\n",
       "</div>"
      ],
      "text/plain": [
       "   season  round            raceName       date    circuitId  \\\n",
       "0    1950      1  British Grand Prix 1950-05-13  silverstone   \n",
       "1    1950      1  British Grand Prix 1950-05-13  silverstone   \n",
       "2    1950      1  British Grand Prix 1950-05-13  silverstone   \n",
       "3    1950      1  British Grand Prix 1950-05-13  silverstone   \n",
       "4    1950      1  British Grand Prix 1950-05-13  silverstone   \n",
       "\n",
       "           circuitName  number  position positionText  points  ...  \\\n",
       "0  Silverstone Circuit     2.0         1            1     9.0  ...   \n",
       "1  Silverstone Circuit     3.0         2            2     6.0  ...   \n",
       "2  Silverstone Circuit     4.0         3            3     4.0  ...   \n",
       "3  Silverstone Circuit    14.0         4            4     3.0  ...   \n",
       "4  Silverstone Circuit    15.0         5            5     2.0  ...   \n",
       "\n",
       "        full name dateOfBirth nationality constructorId Constructor name  \\\n",
       "0     Nino Farina  1906-10-30     Italian          alfa       Alfa Romeo   \n",
       "1   Luigi Fagioli  1898-06-09     Italian          alfa       Alfa Romeo   \n",
       "2     Reg Parnell  1911-07-02     British          alfa       Alfa Romeo   \n",
       "3  Yves Cabantous  1904-10-08      French          lago      Talbot-Lago   \n",
       "4    Louis Rosier  1905-11-05      French          lago      Talbot-Lago   \n",
       "\n",
       "  Constructor nationality results.grid results.laps results.status  \\\n",
       "0                 Italian            1           70       Finished   \n",
       "1                 Italian            2           70       Finished   \n",
       "2                 Italian            4           70       Finished   \n",
       "3                  French            6           68        +2 Laps   \n",
       "4                  French            9           68        +2 Laps   \n",
       "\n",
       "            Circ Count  \n",
       "0  Silverstone Circuit  \n",
       "1                  NaN  \n",
       "2                  NaN  \n",
       "3                  NaN  \n",
       "4                  NaN  \n",
       "\n",
       "[5 rows x 23 columns]"
      ]
     },
     "execution_count": 3,
     "metadata": {},
     "output_type": "execute_result"
    }
   ],
   "source": [
    "data.head()"
   ]
  },
  {
   "cell_type": "code",
   "execution_count": 4,
   "metadata": {
    "scrolled": true
   },
   "outputs": [
    {
     "data": {
      "text/html": [
       "<div>\n",
       "<style scoped>\n",
       "    .dataframe tbody tr th:only-of-type {\n",
       "        vertical-align: middle;\n",
       "    }\n",
       "\n",
       "    .dataframe tbody tr th {\n",
       "        vertical-align: top;\n",
       "    }\n",
       "\n",
       "    .dataframe thead th {\n",
       "        text-align: right;\n",
       "    }\n",
       "</style>\n",
       "<table border=\"1\" class=\"dataframe\">\n",
       "  <thead>\n",
       "    <tr style=\"text-align: right;\">\n",
       "      <th></th>\n",
       "      <th>season</th>\n",
       "      <th>round</th>\n",
       "      <th>number</th>\n",
       "      <th>position</th>\n",
       "      <th>points</th>\n",
       "      <th>results.grid</th>\n",
       "      <th>results.laps</th>\n",
       "    </tr>\n",
       "  </thead>\n",
       "  <tbody>\n",
       "    <tr>\n",
       "      <th>count</th>\n",
       "      <td>23641.000000</td>\n",
       "      <td>23641.000000</td>\n",
       "      <td>23635.000000</td>\n",
       "      <td>23641.000000</td>\n",
       "      <td>23641.000000</td>\n",
       "      <td>23641.000000</td>\n",
       "      <td>23641.000000</td>\n",
       "    </tr>\n",
       "    <tr>\n",
       "      <th>mean</th>\n",
       "      <td>1987.650184</td>\n",
       "      <td>8.136754</td>\n",
       "      <td>16.961455</td>\n",
       "      <td>13.075462</td>\n",
       "      <td>1.605116</td>\n",
       "      <td>11.260903</td>\n",
       "      <td>45.297407</td>\n",
       "    </tr>\n",
       "    <tr>\n",
       "      <th>std</th>\n",
       "      <td>18.020851</td>\n",
       "      <td>4.781516</td>\n",
       "      <td>13.663003</td>\n",
       "      <td>7.823679</td>\n",
       "      <td>3.671290</td>\n",
       "      <td>7.342453</td>\n",
       "      <td>30.555505</td>\n",
       "    </tr>\n",
       "    <tr>\n",
       "      <th>min</th>\n",
       "      <td>1950.000000</td>\n",
       "      <td>1.000000</td>\n",
       "      <td>0.000000</td>\n",
       "      <td>1.000000</td>\n",
       "      <td>0.000000</td>\n",
       "      <td>0.000000</td>\n",
       "      <td>0.000000</td>\n",
       "    </tr>\n",
       "    <tr>\n",
       "      <th>25%</th>\n",
       "      <td>1975.000000</td>\n",
       "      <td>4.000000</td>\n",
       "      <td>7.000000</td>\n",
       "      <td>7.000000</td>\n",
       "      <td>0.000000</td>\n",
       "      <td>5.000000</td>\n",
       "      <td>20.000000</td>\n",
       "    </tr>\n",
       "    <tr>\n",
       "      <th>50%</th>\n",
       "      <td>1989.000000</td>\n",
       "      <td>8.000000</td>\n",
       "      <td>15.000000</td>\n",
       "      <td>13.000000</td>\n",
       "      <td>0.000000</td>\n",
       "      <td>11.000000</td>\n",
       "      <td>52.000000</td>\n",
       "    </tr>\n",
       "    <tr>\n",
       "      <th>75%</th>\n",
       "      <td>2003.000000</td>\n",
       "      <td>12.000000</td>\n",
       "      <td>23.000000</td>\n",
       "      <td>19.000000</td>\n",
       "      <td>1.000000</td>\n",
       "      <td>17.000000</td>\n",
       "      <td>66.000000</td>\n",
       "    </tr>\n",
       "    <tr>\n",
       "      <th>max</th>\n",
       "      <td>2017.000000</td>\n",
       "      <td>21.000000</td>\n",
       "      <td>208.000000</td>\n",
       "      <td>39.000000</td>\n",
       "      <td>50.000000</td>\n",
       "      <td>34.000000</td>\n",
       "      <td>200.000000</td>\n",
       "    </tr>\n",
       "  </tbody>\n",
       "</table>\n",
       "</div>"
      ],
      "text/plain": [
       "             season         round        number      position        points  \\\n",
       "count  23641.000000  23641.000000  23635.000000  23641.000000  23641.000000   \n",
       "mean    1987.650184      8.136754     16.961455     13.075462      1.605116   \n",
       "std       18.020851      4.781516     13.663003      7.823679      3.671290   \n",
       "min     1950.000000      1.000000      0.000000      1.000000      0.000000   \n",
       "25%     1975.000000      4.000000      7.000000      7.000000      0.000000   \n",
       "50%     1989.000000      8.000000     15.000000     13.000000      0.000000   \n",
       "75%     2003.000000     12.000000     23.000000     19.000000      1.000000   \n",
       "max     2017.000000     21.000000    208.000000     39.000000     50.000000   \n",
       "\n",
       "       results.grid  results.laps  \n",
       "count  23641.000000  23641.000000  \n",
       "mean      11.260903     45.297407  \n",
       "std        7.342453     30.555505  \n",
       "min        0.000000      0.000000  \n",
       "25%        5.000000     20.000000  \n",
       "50%       11.000000     52.000000  \n",
       "75%       17.000000     66.000000  \n",
       "max       34.000000    200.000000  "
      ]
     },
     "execution_count": 4,
     "metadata": {},
     "output_type": "execute_result"
    }
   ],
   "source": [
    "data.describe()"
   ]
  },
  {
   "cell_type": "code",
   "execution_count": 5,
   "metadata": {
    "scrolled": true
   },
   "outputs": [
    {
     "data": {
      "text/plain": [
       "British              4134\n",
       "Italian              3315\n",
       "French               2747\n",
       "German               2187\n",
       "Brazilian            1935\n",
       "American             1278\n",
       "Finnish               955\n",
       "Australian            718\n",
       "Austrian              682\n",
       "Spanish               654\n",
       "Japanese              581\n",
       "Belgian               558\n",
       "Swiss                 496\n",
       "Swedish               489\n",
       "New Zealander         375\n",
       "Dutch                 374\n",
       "Argentine             373\n",
       "Mexican               321\n",
       "Canadian              289\n",
       "South African         210\n",
       "Russian               132\n",
       "Colombian             125\n",
       "Venezuelan            120\n",
       "Danish                 96\n",
       "Irish                  92\n",
       "Portuguese             87\n",
       "Polish                 76\n",
       "Indian                 59\n",
       "Chilean                37\n",
       "Monegasque             29\n",
       "Hungarian              20\n",
       "Thai                   19\n",
       "Rhodesian              18\n",
       "Malaysian              16\n",
       "Liechtensteiner        13\n",
       "Indonesian             12\n",
       "Uruguayan               7\n",
       "East German             5\n",
       "Czech                   3\n",
       "American-Italian        2\n",
       "Argentine-Italian       2\n",
       "Name: nationality, dtype: int64"
      ]
     },
     "execution_count": 5,
     "metadata": {},
     "output_type": "execute_result"
    }
   ],
   "source": [
    "data['nationality'].value_counts()\n"
   ]
  },
  {
   "cell_type": "markdown",
   "metadata": {},
   "source": [
    "As per the above data analysis, we understad that majority of the formula one drivers have been or are Brithsh. Based on this we also understand that why Formula one racing is so popular in United Kingdom. "
   ]
  },
  {
   "cell_type": "code",
   "execution_count": 6,
   "metadata": {
    "scrolled": false
   },
   "outputs": [
    {
     "data": {
      "text/plain": [
       "Rubens Barrichello    326\n",
       "Jenson Button         309\n",
       "Michael Schumacher    303\n",
       "Fernando Alonso       293\n",
       "Kimi Raikkonen        273\n",
       "                     ... \n",
       "Ricardo LondoÃ±o        1\n",
       "Rob Schroeder           1\n",
       "Dennis Taylor           1\n",
       "Peter Ashdown           1\n",
       "Ray Reed                1\n",
       "Name: full name, Length: 844, dtype: int64"
      ]
     },
     "execution_count": 6,
     "metadata": {},
     "output_type": "execute_result"
    }
   ],
   "source": [
    "data['full name'].value_counts()"
   ]
  },
  {
   "cell_type": "code",
   "execution_count": 34,
   "metadata": {
    "scrolled": false
   },
   "outputs": [
    {
     "data": {
      "text/plain": [
       "[<matplotlib.lines.Line2D at 0x1f3da0de310>]"
      ]
     },
     "execution_count": 34,
     "metadata": {},
     "output_type": "execute_result"
    },
    {
     "data": {
      "image/png": "[encoded data removed]",
      "text/plain": [
       "<Figure size 432x288 with 1 Axes>"
      ]
     },
     "metadata": {
      "needs_background": "light"
     },
     "output_type": "display_data"
    }
   ],
   "source": []
  },
  {
   "cell_type": "markdown",
   "metadata": {},
   "source": [
    "According to the above analysis, Rubens Barrichello has appeared in maximum number of races. And there have been in total 844 number of drivers."
   ]
  },
  {
   "cell_type": "code",
   "execution_count": 8,
   "metadata": {
    "scrolled": true
   },
   "outputs": [
    {
     "data": {
      "text/plain": [
       "Autodromo Nazionale di Monza     1668\n",
       "Circuit de Monaco                1544\n",
       "Silverstone Circuit              1276\n",
       "Circuit de Spa-Francorchamps     1088\n",
       "Nurburgring                       956\n",
       "                                 ... \n",
       "Sebring International Raceway      19\n",
       "Monsanto Park Circuit              16\n",
       "Pescara Circuit                    16\n",
       "Le Mans                            15\n",
       "AVUS                               15\n",
       "Name: circuitName, Length: 72, dtype: int64"
      ]
     },
     "execution_count": 8,
     "metadata": {},
     "output_type": "execute_result"
    }
   ],
   "source": [
    "data['circuitName'].value_counts()"
   ]
  },
  {
   "cell_type": "markdown",
   "metadata": {},
   "source": [
    "According to the above analysis, most of the races were held at Monza."
   ]
  },
  {
   "cell_type": "code",
   "execution_count": 9,
   "metadata": {},
   "outputs": [
    {
     "name": "stdout",
     "output_type": "stream",
     "text": [
      "974\n"
     ]
    }
   ],
   "source": [
    "number_of_podiums = []\n",
    "for i in range(len(data['position'])):\n",
    "    if data['position'][i] == 1:\n",
    "        number_of_podiums.append(data['full name'][i])\n",
    "        \n",
    "sorting_number_of_podiums = sorted(number_of_podiums)\n",
    "print(len(sorting_number_of_podiums))"
   ]
  },
  {
   "cell_type": "markdown",
   "metadata": {},
   "source": [
    "In the above analysis we understand that there have been 974 total wins in total in races. Wins were by various drivers or the same driver has won multiple times. Number of wins per driver has been givern below in a dicrionary format."
   ]
  },
  {
   "cell_type": "code",
   "execution_count": 10,
   "metadata": {},
   "outputs": [
    {
     "name": "stdout",
     "output_type": "stream",
     "text": [
      "{'Alain Prost': 51, 'Alan Jones': 12, 'Alberto Ascari': 13, 'Alessandro Nannini': 1, 'Ayrton Senna': 40, 'Bill Vukovich': 2, 'Bob Sweikert': 1, 'Bruce McLaren': 4, 'Carlos Pace': 1, 'Carlos Reutemann': 12, 'Clay Regazzoni': 5, 'Damon Hill': 22, 'Dan Gurney': 4, 'Daniel Ricciardo': 5, 'David Coulthard': 13, 'Denny Hulme': 8, 'Didier Pironi': 3, 'Eddie Irvine': 4, 'Elio de Angelis': 2, 'Emerson Fittipaldi': 14, 'Felipe Massa': 11, 'Fernando Alonso': 32, 'FranÃ§ois Cevert': 1, 'Gerhard Berger': 9, 'Giancarlo Baghetti': 1, 'Giancarlo Fisichella': 3, 'Gilles Villeneuve': 6, 'Graham Hill': 14, 'Gunnar Nilsson': 1, 'Heikki Kovalainen': 1, 'Heinz-Harald Frentzen': 3, 'Innes Ireland': 1, 'Jack Brabham': 14, 'Jackie Stewart': 27, 'Jacky Ickx': 8, 'Jacques Laffite': 6, 'Jacques Villeneuve': 11, 'James Hunt': 10, 'Jarno Trulli': 1, 'Jean Alesi': 1, 'Jean-Pierre Beltoise': 1, 'Jean-Pierre Jabouille': 2, 'Jenson Button': 15, 'Jim Clark': 25, 'Jim Rathmann': 1, 'Jimmy Bryan': 1, 'Jo Bonnier': 1, 'Jo Siffert': 2, 'Jochen Mass': 1, 'Jochen Rindt': 6, 'Jody Scheckter': 10, 'John Surtees': 6, 'John Watson': 5, 'Johnnie Parsons': 1, 'Johnny Herbert': 3, 'Jose Froilan Gonzalez': 2, 'Juan Fangio': 24, 'Juan Pablo Montoya': 7, 'Keke Rosberg': 5, 'Kimi Raikkonen': 20, 'Lee Wallard': 1, 'Lewis Hamilton': 62, 'Lorenzo Bandini': 1, 'Ludovico Scarfiotti': 1, 'Luigi Fagioli': 1, 'Luigi Musso': 1, 'Mario Andretti': 12, 'Mark Webber': 9, 'Maurice Trintignant': 2, 'Max Verstappen': 3, 'Michael Schumacher': 90, 'Michele Alboreto': 5, 'Mika Hakkinen': 20, 'Mike Hawthorn': 3, 'Nelson Piquet': 23, 'Nico Rosberg': 23, 'Nigel Mansell': 30, 'Niki Lauda': 25, 'Nino Farina': 5, 'Olivier Panis': 1, 'Pastor Maldonado': 1, 'Pat Flaherty': 1, 'Patrick Depailler': 2, 'Patrick Tambay': 2, 'Pedro RodrÃ\\xadguez': 2, 'Peter Collins': 3, 'Peter Gethin': 1, 'Peter Revson': 2, 'Phil Hill': 3, 'Piero Taruffi': 1, 'Ralf Schumacher': 6, 'Rene Arnoux': 7, 'Riccardo Patrese': 5, 'Richie Ginther': 1, 'Robert Kubica': 1, 'Rodger Ward': 1, 'Ronnie Peterson': 10, 'Rubens Barrichello': 11, 'Sam Hanks': 1, 'Sebastian Vettel': 47, 'Stirling Moss': 16, 'Thierry Boutsen': 3, 'Tony Brooks': 6, 'Troy Ruttman': 1, 'Valtteri Bottas': 3, 'Vittorio Brambilla': 1, 'Wolfgang von Trips': 2}\n"
     ]
    }
   ],
   "source": [
    "counts = {}\n",
    "#first iteration to create a dictionary with a value zero\n",
    "for driver_name in sorting_number_of_podiums:\n",
    "    counts[driver_name] = 0\n",
    "    \n",
    "#second iteration to increament the value\n",
    "for index_ in range(len(sorting_number_of_podiums)):\n",
    "    if sorting_number_of_podiums[index_] == (sorting_number_of_podiums[index_]):\n",
    "        counts[sorting_number_of_podiums[index_]] += 1\n",
    "    \n",
    "print((counts))"
   ]
  },
  {
   "cell_type": "markdown",
   "metadata": {},
   "source": [
    "In the above dictionary we can see the number of wins every driver has had. Since the data is only till 2017 we can see that the numbers are not accurate because we know that Lewis Hamilton has won more than 61 races until 2021."
   ]
  },
  {
   "cell_type": "code",
   "execution_count": 11,
   "metadata": {},
   "outputs": [
    {
     "name": "stdout",
     "output_type": "stream",
     "text": [
      "Maximum number of wins as per the data, which is uptil 2017, was 90 by Michael Schumacher.\n"
     ]
    }
   ],
   "source": [
    "driver_names_list = list(counts.keys())\n",
    "number_of_wins_list = list(counts.values())\n",
    "\n",
    "max_wins = (max(number_of_wins_list))\n",
    "driver_name = ''\n",
    "\n",
    "for key, value in counts.items():\n",
    "    if value == max_wins:\n",
    "        driver_name = key\n",
    "        \n",
    "print(f'Maximum number of wins as per the data, which is uptil 2017, was {max_wins} by {driver_name}.')"
   ]
  },
  {
   "cell_type": "code",
   "execution_count": null,
   "metadata": {},
   "outputs": [],
   "source": []
  }
 ],
 "metadata": {
  "kernelspec": {
   "display_name": "Python 3",
   "language": "python",
   "name": "python3"
  },
  "language_info": {
   "codemirror_mode": {
    "name": "ipython",
    "version": 3
   },
   "file_extension": ".py",
   "mimetype": "text/x-python",
   "name": "python",
   "nbconvert_exporter": "python",
   "pygments_lexer": "ipython3",
   "version": "3.8.3"
  }
 },
 "nbformat": 4,
 "nbformat_minor": 4
}
